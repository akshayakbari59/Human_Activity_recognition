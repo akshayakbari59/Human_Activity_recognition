{
 "cells": [
  {
   "cell_type": "code",
   "execution_count": 0,
   "metadata": {
    "colab": {},
    "colab_type": "code",
    "id": "IBPKRynt559Y"
   },
   "outputs": [],
   "source": [
    "import pandas as pd\n",
    "import numpy as np"
   ]
  },
  {
   "cell_type": "code",
   "execution_count": 2,
   "metadata": {
    "colab": {
     "base_uri": "https://localhost:8080/",
     "height": 122
    },
    "colab_type": "code",
    "id": "eARP24z5TrmG",
    "outputId": "94c78c32-f8b2-434a-f15a-a21383d8a920"
   },
   "outputs": [
    {
     "name": "stdout",
     "output_type": "stream",
     "text": [
      "Go to this URL in a browser: https://accounts.google.com/o/oauth2/auth?client_id=947318989803-6bn6qk8qdgf4n4g3pfee6491hc0brc4i.apps.googleusercontent.com&redirect_uri=urn%3Aietf%3Awg%3Aoauth%3A2.0%3Aoob&scope=email%20https%3A%2F%2Fwww.googleapis.com%2Fauth%2Fdocs.test%20https%3A%2F%2Fwww.googleapis.com%2Fauth%2Fdrive%20https%3A%2F%2Fwww.googleapis.com%2Fauth%2Fdrive.photos.readonly%20https%3A%2F%2Fwww.googleapis.com%2Fauth%2Fpeopleapi.readonly&response_type=code\n",
      "\n",
      "Enter your authorization code:\n",
      "··········\n",
      "Mounted at /content/drive\n"
     ]
    }
   ],
   "source": [
    "from google.colab import drive\n",
    "drive.mount('/content/drive')"
   ]
  },
  {
   "cell_type": "code",
   "execution_count": 0,
   "metadata": {
    "colab": {},
    "colab_type": "code",
    "id": "143NkeF7UU8Y"
   },
   "outputs": [],
   "source": [
    "drive_link = \"/content/drive/My Drive/Colab Notebooks/HAR/\""
   ]
  },
  {
   "cell_type": "code",
   "execution_count": 0,
   "metadata": {
    "colab": {},
    "colab_type": "code",
    "id": "LpmbUXIk559b"
   },
   "outputs": [],
   "source": [
    "# Activities are the class labels\n",
    "# It is a 6 class classification\n",
    "ACTIVITIES = {\n",
    "    0: 'WALKING',\n",
    "    1: 'WALKING_UPSTAIRS',\n",
    "    2: 'WALKING_DOWNSTAIRS',\n",
    "    3: 'SITTING',\n",
    "    4: 'STANDING',\n",
    "    5: 'LAYING',\n",
    "}\n",
    "\n",
    "# Utility function to print the confusion matrix\n",
    "def confusion_matrix(Y_true, Y_pred):\n",
    "    Y_true = pd.Series([ACTIVITIES[y] for y in np.argmax(Y_true, axis=1)])\n",
    "    Y_pred = pd.Series([ACTIVITIES[y] for y in np.argmax(Y_pred, axis=1)])\n",
    "\n",
    "    return pd.crosstab(Y_true, Y_pred, rownames=['True'], colnames=['Pred'])"
   ]
  },
  {
   "cell_type": "markdown",
   "metadata": {
    "colab_type": "text",
    "id": "zjtCeJOv559e"
   },
   "source": [
    "### Data"
   ]
  },
  {
   "cell_type": "code",
   "execution_count": 0,
   "metadata": {
    "colab": {},
    "colab_type": "code",
    "id": "8LEsBbli559i"
   },
   "outputs": [],
   "source": [
    "# Raw data signals\n",
    "# Signals are from Accelerometer and Gyroscope\n",
    "# The signals are in x,y,z directions\n",
    "# Sensor signals are filtered to have only body acceleration\n",
    "# excluding the acceleration due to gravity\n",
    "# Triaxial acceleration from the accelerometer is total acceleration\n",
    "SIGNALS = [\n",
    "    \"body_acc_x\",\n",
    "    \"body_acc_y\",\n",
    "    \"body_acc_z\",\n",
    "    \"body_gyro_x\",\n",
    "    \"body_gyro_y\",\n",
    "    \"body_gyro_z\",\n",
    "    \"total_acc_x\",\n",
    "    \"total_acc_y\",\n",
    "    \"total_acc_z\"\n",
    "]"
   ]
  },
  {
   "cell_type": "code",
   "execution_count": 0,
   "metadata": {
    "colab": {},
    "colab_type": "code",
    "id": "56YXumRL559l"
   },
   "outputs": [],
   "source": [
    "# Utility function to read the data from csv file\n",
    "def _read_csv(filename):\n",
    "    return pd.read_csv(filename, delim_whitespace=True, header=None)\n",
    "\n",
    "# Utility function to load the load\n",
    "def load_signals(subset):\n",
    "    signals_data = []\n",
    "\n",
    "    for signal in SIGNALS:\n",
    "        filename = f'{drive_link}UCI_HAR_Dataset/{subset}/Inertial Signals/{signal}_{subset}.txt'\n",
    "        signals_data.append(\n",
    "            _read_csv(filename).as_matrix()\n",
    "        ) \n",
    "\n",
    "    # Transpose is used to change the dimensionality of the output,\n",
    "    # aggregating the signals by combination of sample/timestep.\n",
    "    # Resultant shape is (7352 train/2947 test samples, 128 timesteps, 9 signals)\n",
    "    return np.transpose(signals_data, (1, 2, 0))"
   ]
  },
  {
   "cell_type": "code",
   "execution_count": 0,
   "metadata": {
    "colab": {},
    "colab_type": "code",
    "id": "OmSYFIA9559o"
   },
   "outputs": [],
   "source": [
    "\n",
    "def load_y(subset):\n",
    "    \"\"\"\n",
    "    The objective that we are trying to predict is a integer, from 1 to 6,\n",
    "    that represents a human activity. We return a binary representation of \n",
    "    every sample objective as a 6 bits vector using One Hot Encoding\n",
    "    (https://pandas.pydata.org/pandas-docs/stable/generated/pandas.get_dummies.html)\n",
    "    \"\"\"\n",
    "    filename = f'{drive_link}UCI_HAR_Dataset/{subset}/y_{subset}.txt'\n",
    "    y = _read_csv(filename)[0]\n",
    "\n",
    "    return pd.get_dummies(y).as_matrix()"
   ]
  },
  {
   "cell_type": "code",
   "execution_count": 0,
   "metadata": {
    "colab": {},
    "colab_type": "code",
    "id": "w42_RxQS559r"
   },
   "outputs": [],
   "source": [
    "def load_data():\n",
    "    \"\"\"\n",
    "    Obtain the dataset from multiple files.\n",
    "    Returns: X_train, X_test, y_train, y_test\n",
    "    \"\"\"\n",
    "    X_train, X_test = load_signals('train'), load_signals('test')\n",
    "    y_train, y_test = load_y('train'), load_y('test')\n",
    "\n",
    "    return X_train, X_test, y_train, y_test"
   ]
  },
  {
   "cell_type": "code",
   "execution_count": 0,
   "metadata": {
    "colab": {},
    "colab_type": "code",
    "id": "_T30Nihk559u"
   },
   "outputs": [],
   "source": [
    "# Importing tensorflow\n",
    "np.random.seed(42)\n",
    "import tensorflow as tf\n",
    "tf.set_random_seed(42)"
   ]
  },
  {
   "cell_type": "code",
   "execution_count": 0,
   "metadata": {
    "colab": {},
    "colab_type": "code",
    "id": "gtWpi705559x"
   },
   "outputs": [],
   "source": [
    "# Configuring a session\n",
    "session_conf = tf.ConfigProto(\n",
    "    intra_op_parallelism_threads=1,\n",
    "    inter_op_parallelism_threads=1\n",
    ")"
   ]
  },
  {
   "cell_type": "code",
   "execution_count": 11,
   "metadata": {
    "colab": {
     "base_uri": "https://localhost:8080/",
     "height": 34
    },
    "colab_type": "code",
    "id": "LYWuNsTh5591",
    "outputId": "d67ac257-6029-4949-bef0-0409a524fa13"
   },
   "outputs": [
    {
     "name": "stderr",
     "output_type": "stream",
     "text": [
      "Using TensorFlow backend.\n"
     ]
    }
   ],
   "source": [
    "# Import Keras\n",
    "from keras import backend as K\n",
    "sess = tf.Session(graph=tf.get_default_graph(), config=session_conf)\n",
    "K.set_session(sess)"
   ]
  },
  {
   "cell_type": "code",
   "execution_count": 0,
   "metadata": {
    "colab": {},
    "colab_type": "code",
    "id": "CwxUpgh-5593"
   },
   "outputs": [],
   "source": [
    "# Importing libraries\n",
    "from keras.models import Sequential\n",
    "from keras.layers import LSTM\n",
    "from keras.layers.core import Dense, Dropout"
   ]
  },
  {
   "cell_type": "code",
   "execution_count": 0,
   "metadata": {
    "colab": {},
    "colab_type": "code",
    "id": "j6Jnb4S65596"
   },
   "outputs": [],
   "source": [
    "# Initializing parameters\n",
    "epochs = 30\n",
    "batch_size = 16\n",
    "n_hidden = 32"
   ]
  },
  {
   "cell_type": "code",
   "execution_count": 0,
   "metadata": {
    "colab": {},
    "colab_type": "code",
    "id": "UyClJEL-5599"
   },
   "outputs": [],
   "source": [
    "# Utility function to count the number of classes\n",
    "def _count_classes(y):\n",
    "    return len(set([tuple(category) for category in y]))"
   ]
  },
  {
   "cell_type": "code",
   "execution_count": 15,
   "metadata": {
    "colab": {
     "base_uri": "https://localhost:8080/",
     "height": 105
    },
    "colab_type": "code",
    "id": "B3p2xS1K55-A",
    "outputId": "d3e841d1-675d-423f-b2cf-4577f461582c"
   },
   "outputs": [
    {
     "name": "stderr",
     "output_type": "stream",
     "text": [
      "/usr/local/lib/python3.6/dist-packages/ipykernel_launcher.py:11: FutureWarning: Method .as_matrix will be removed in a future version. Use .values instead.\n",
      "  # This is added back by InteractiveShellApp.init_path()\n",
      "/usr/local/lib/python3.6/dist-packages/ipykernel_launcher.py:12: FutureWarning: Method .as_matrix will be removed in a future version. Use .values instead.\n",
      "  if sys.path[0] == '':\n"
     ]
    }
   ],
   "source": [
    "# Loading the train and test data\n",
    "X_train, X_test, Y_train, Y_test = load_data()"
   ]
  },
  {
   "cell_type": "code",
   "execution_count": 16,
   "metadata": {
    "colab": {
     "base_uri": "https://localhost:8080/",
     "height": 68
    },
    "colab_type": "code",
    "id": "WfvDdTK955-C",
    "outputId": "2acacf5d-9832-44dd-a32c-32fb9776795f"
   },
   "outputs": [
    {
     "name": "stdout",
     "output_type": "stream",
     "text": [
      "128\n",
      "9\n",
      "7352\n"
     ]
    }
   ],
   "source": [
    "timesteps = len(X_train[0])\n",
    "input_dim = len(X_train[0][0])\n",
    "n_classes = _count_classes(Y_train)\n",
    "\n",
    "print(timesteps)\n",
    "print(input_dim)\n",
    "print(len(X_train))"
   ]
  },
  {
   "cell_type": "markdown",
   "metadata": {
    "colab_type": "text",
    "id": "3OycFL8055-H"
   },
   "source": [
    "- Defining the Architecture of LSTM"
   ]
  },
  {
   "cell_type": "code",
   "execution_count": 38,
   "metadata": {
    "colab": {
     "base_uri": "https://localhost:8080/",
     "height": 255
    },
    "colab_type": "code",
    "id": "SZXHXDj5sf7f",
    "outputId": "32b4106d-fd5b-40ad-ef4f-10450f5b0fcf"
   },
   "outputs": [
    {
     "name": "stdout",
     "output_type": "stream",
     "text": [
      "Model: \"sequential_2\"\n",
      "_________________________________________________________________\n",
      "Layer (type)                 Output Shape              Param #   \n",
      "=================================================================\n",
      "lstm_2 (LSTM)                (None, 32)                5376      \n",
      "_________________________________________________________________\n",
      "dropout_2 (Dropout)          (None, 32)                0         \n",
      "_________________________________________________________________\n",
      "dense_2 (Dense)              (None, 6)                 198       \n",
      "=================================================================\n",
      "Total params: 5,574\n",
      "Trainable params: 5,574\n",
      "Non-trainable params: 0\n",
      "_________________________________________________________________\n"
     ]
    }
   ],
   "source": [
    "# Initiliazing the sequential model\n",
    "model = Sequential()\n",
    "# Configuring the parameters\n",
    "model.add(LSTM(n_hidden, input_shape=(timesteps, input_dim)))\n",
    "# Adding a dropout layer\n",
    "model.add(Dropout(0.5))\n",
    "# Adding a dense output layer with sigmoid activation\n",
    "model.add(Dense(n_classes, activation='sigmoid'))\n",
    "model.summary()"
   ]
  },
  {
   "cell_type": "code",
   "execution_count": 0,
   "metadata": {
    "colab": {},
    "colab_type": "code",
    "id": "GvHH10W1siys"
   },
   "outputs": [],
   "source": [
    "# Compiling the model\n",
    "model.compile(loss='categorical_crossentropy',\n",
    "              optimizer='rmsprop',\n",
    "              metrics=['accuracy'])"
   ]
  },
  {
   "cell_type": "code",
   "execution_count": 40,
   "metadata": {
    "colab": {
     "base_uri": "https://localhost:8080/",
     "height": 1000
    },
    "colab_type": "code",
    "id": "Pge-Rp28skzY",
    "outputId": "cc06e864-d272-48ed-b94f-9f78a1bda52a"
   },
   "outputs": [
    {
     "name": "stdout",
     "output_type": "stream",
     "text": [
      "Train on 7352 samples, validate on 2947 samples\n",
      "Epoch 1/30\n",
      "7352/7352 [==============================] - 28s 4ms/step - loss: 1.3261 - acc: 0.4374 - val_loss: 1.1536 - val_acc: 0.4798\n",
      "Epoch 2/30\n",
      "7352/7352 [==============================] - 27s 4ms/step - loss: 0.9782 - acc: 0.5752 - val_loss: 0.9710 - val_acc: 0.5881\n",
      "Epoch 3/30\n",
      "7352/7352 [==============================] - 27s 4ms/step - loss: 0.7828 - acc: 0.6527 - val_loss: 0.7607 - val_acc: 0.6203\n",
      "Epoch 4/30\n",
      "7352/7352 [==============================] - 27s 4ms/step - loss: 0.6914 - acc: 0.6717 - val_loss: 0.8030 - val_acc: 0.6261\n",
      "Epoch 5/30\n",
      "7352/7352 [==============================] - 27s 4ms/step - loss: 0.6321 - acc: 0.7127 - val_loss: 0.7291 - val_acc: 0.7180\n",
      "Epoch 6/30\n",
      "7352/7352 [==============================] - 27s 4ms/step - loss: 0.5658 - acc: 0.7508 - val_loss: 0.7274 - val_acc: 0.7150\n",
      "Epoch 7/30\n",
      "7352/7352 [==============================] - 27s 4ms/step - loss: 0.5461 - acc: 0.7816 - val_loss: 0.5893 - val_acc: 0.7506\n",
      "Epoch 8/30\n",
      "7352/7352 [==============================] - 27s 4ms/step - loss: 0.5253 - acc: 0.7809 - val_loss: 0.7363 - val_acc: 0.7214\n",
      "Epoch 9/30\n",
      "7352/7352 [==============================] - 27s 4ms/step - loss: 0.4737 - acc: 0.7919 - val_loss: 0.6084 - val_acc: 0.7482\n",
      "Epoch 10/30\n",
      "7352/7352 [==============================] - 27s 4ms/step - loss: 0.4864 - acc: 0.7947 - val_loss: 0.5852 - val_acc: 0.7584\n",
      "Epoch 11/30\n",
      "7352/7352 [==============================] - 27s 4ms/step - loss: 0.4517 - acc: 0.8020 - val_loss: 0.5840 - val_acc: 0.7631\n",
      "Epoch 12/30\n",
      "7352/7352 [==============================] - 27s 4ms/step - loss: 0.4375 - acc: 0.8132 - val_loss: 0.5379 - val_acc: 0.7947\n",
      "Epoch 13/30\n",
      "7352/7352 [==============================] - 26s 4ms/step - loss: 0.3980 - acc: 0.8381 - val_loss: 0.5387 - val_acc: 0.8276\n",
      "Epoch 14/30\n",
      "7352/7352 [==============================] - 27s 4ms/step - loss: 0.3546 - acc: 0.8817 - val_loss: 0.4208 - val_acc: 0.8870\n",
      "Epoch 15/30\n",
      "7352/7352 [==============================] - 27s 4ms/step - loss: 0.3011 - acc: 0.9094 - val_loss: 0.4869 - val_acc: 0.8856\n",
      "Epoch 16/30\n",
      "7352/7352 [==============================] - 27s 4ms/step - loss: 0.3083 - acc: 0.9146 - val_loss: 0.4904 - val_acc: 0.8497\n",
      "Epoch 17/30\n",
      "7352/7352 [==============================] - 27s 4ms/step - loss: 0.2509 - acc: 0.9251 - val_loss: 0.4182 - val_acc: 0.8938\n",
      "Epoch 18/30\n",
      "7352/7352 [==============================] - 27s 4ms/step - loss: 0.2555 - acc: 0.9256 - val_loss: 0.9500 - val_acc: 0.8168\n",
      "Epoch 19/30\n",
      "7352/7352 [==============================] - 27s 4ms/step - loss: 0.2568 - acc: 0.9212 - val_loss: 0.5029 - val_acc: 0.8697\n",
      "Epoch 20/30\n",
      "7352/7352 [==============================] - 27s 4ms/step - loss: 0.1999 - acc: 0.9376 - val_loss: 0.5560 - val_acc: 0.8785\n",
      "Epoch 21/30\n",
      "7352/7352 [==============================] - 27s 4ms/step - loss: 0.2003 - acc: 0.9347 - val_loss: 0.4358 - val_acc: 0.9019\n",
      "Epoch 22/30\n",
      "7352/7352 [==============================] - 27s 4ms/step - loss: 0.2589 - acc: 0.9278 - val_loss: 0.4011 - val_acc: 0.9046\n",
      "Epoch 23/30\n",
      "7352/7352 [==============================] - 27s 4ms/step - loss: 0.1895 - acc: 0.9395 - val_loss: 0.4827 - val_acc: 0.8935\n",
      "Epoch 24/30\n",
      "7352/7352 [==============================] - 27s 4ms/step - loss: 0.1941 - acc: 0.9430 - val_loss: 0.4787 - val_acc: 0.8867\n",
      "Epoch 25/30\n",
      "7352/7352 [==============================] - 26s 4ms/step - loss: 0.1954 - acc: 0.9418 - val_loss: 0.5025 - val_acc: 0.9040\n",
      "Epoch 26/30\n",
      "7352/7352 [==============================] - 27s 4ms/step - loss: 0.1734 - acc: 0.9465 - val_loss: 0.5167 - val_acc: 0.8806\n",
      "Epoch 27/30\n",
      "7352/7352 [==============================] - 27s 4ms/step - loss: 0.1754 - acc: 0.9433 - val_loss: 0.4730 - val_acc: 0.9013\n",
      "Epoch 28/30\n",
      "7352/7352 [==============================] - 27s 4ms/step - loss: 0.1559 - acc: 0.9480 - val_loss: 0.5570 - val_acc: 0.8972\n",
      "Epoch 29/30\n",
      "7352/7352 [==============================] - 27s 4ms/step - loss: 0.1768 - acc: 0.9440 - val_loss: 0.4493 - val_acc: 0.8982\n",
      "Epoch 30/30\n",
      "7352/7352 [==============================] - 27s 4ms/step - loss: 0.1667 - acc: 0.9459 - val_loss: 0.4574 - val_acc: 0.9006\n"
     ]
    },
    {
     "data": {
      "text/plain": [
       "<keras.callbacks.History at 0x7fdaad72aeb8>"
      ]
     },
     "execution_count": 40,
     "metadata": {
      "tags": []
     },
     "output_type": "execute_result"
    }
   ],
   "source": [
    "# Training the model\n",
    "model.fit(X_train,\n",
    "          Y_train,\n",
    "          batch_size=batch_size,\n",
    "          validation_data=(X_test, Y_test),\n",
    "          epochs=epochs)"
   ]
  },
  {
   "cell_type": "code",
   "execution_count": 41,
   "metadata": {
    "colab": {
     "base_uri": "https://localhost:8080/",
     "height": 187
    },
    "colab_type": "code",
    "id": "aJ6qfqsWsnms",
    "outputId": "d03893a7-5150-4fab-ae82-674373fe4516"
   },
   "outputs": [
    {
     "name": "stdout",
     "output_type": "stream",
     "text": [
      "Pred                LAYING  SITTING  ...  WALKING_DOWNSTAIRS  WALKING_UPSTAIRS\n",
      "True                                 ...                                      \n",
      "LAYING                 510        0  ...                   0                 0\n",
      "SITTING                  0      408  ...                   1                 1\n",
      "STANDING                 0      103  ...                   0                 1\n",
      "WALKING                  0        0  ...                  16                11\n",
      "WALKING_DOWNSTAIRS       0        0  ...                 391                26\n",
      "WALKING_UPSTAIRS         0        0  ...                  12               449\n",
      "\n",
      "[6 rows x 6 columns]\n"
     ]
    }
   ],
   "source": [
    "# Confusion Matrix\n",
    "print(confusion_matrix(Y_test, model.predict(X_test)))"
   ]
  },
  {
   "cell_type": "code",
   "execution_count": 42,
   "metadata": {
    "colab": {
     "base_uri": "https://localhost:8080/",
     "height": 51
    },
    "colab_type": "code",
    "id": "RtDpN9Njsq5e",
    "outputId": "e12d82ef-24f2-4719-b594-082856eca494"
   },
   "outputs": [
    {
     "name": "stdout",
     "output_type": "stream",
     "text": [
      "2947/2947 [==============================] - 1s 304us/step\n",
      "[0.4573536882557054, 0.9005768578417389]\n"
     ]
    }
   ],
   "source": [
    "score = model.evaluate(X_test, Y_test)\n",
    "print(score)"
   ]
  },
  {
   "cell_type": "code",
   "execution_count": 0,
   "metadata": {
    "colab": {},
    "colab_type": "code",
    "id": "ZzYMwIl5Rx2V"
   },
   "outputs": [],
   "source": [
    "#Lets reduce dropout and check the results"
   ]
  },
  {
   "cell_type": "code",
   "execution_count": 44,
   "metadata": {
    "colab": {
     "base_uri": "https://localhost:8080/",
     "height": 309
    },
    "colab_type": "code",
    "id": "N_W72yUfRwvh",
    "outputId": "c91b98cb-8579-45c3-8bd6-5a6468b0d3e4"
   },
   "outputs": [
    {
     "name": "stdout",
     "output_type": "stream",
     "text": [
      "WARNING:tensorflow:From /usr/local/lib/python3.6/dist-packages/keras/backend/tensorflow_backend.py:4479: The name tf.truncated_normal is deprecated. Please use tf.random.truncated_normal instead.\n",
      "\n",
      "Model: \"sequential_3\"\n",
      "_________________________________________________________________\n",
      "Layer (type)                 Output Shape              Param #   \n",
      "=================================================================\n",
      "lstm_3 (LSTM)                (None, 32)                5376      \n",
      "_________________________________________________________________\n",
      "dropout_3 (Dropout)          (None, 32)                0         \n",
      "_________________________________________________________________\n",
      "dense_3 (Dense)              (None, 6)                 198       \n",
      "=================================================================\n",
      "Total params: 5,574\n",
      "Trainable params: 5,574\n",
      "Non-trainable params: 0\n",
      "_________________________________________________________________\n"
     ]
    }
   ],
   "source": [
    "# Initiliazing the sequential model\n",
    "model = Sequential()\n",
    "# Configuring the parameters\n",
    "model.add(LSTM(n_hidden, input_shape=(timesteps, input_dim), kernel_initializer=\"glorot_normal\"))\n",
    "# Adding a dropout layer\n",
    "model.add(Dropout(0.25))\n",
    "# Adding a dense output layer with sigmoid activation\n",
    "model.add(Dense(n_classes, activation='sigmoid'))\n",
    "model.summary()"
   ]
  },
  {
   "cell_type": "code",
   "execution_count": 0,
   "metadata": {
    "colab": {},
    "colab_type": "code",
    "id": "59ShDZ1DSHc3"
   },
   "outputs": [],
   "source": [
    "# Compiling the model\n",
    "model.compile(loss='categorical_crossentropy',\n",
    "              optimizer='rmsprop',\n",
    "              metrics=['accuracy'])"
   ]
  },
  {
   "cell_type": "code",
   "execution_count": 46,
   "metadata": {
    "colab": {
     "base_uri": "https://localhost:8080/",
     "height": 1000
    },
    "colab_type": "code",
    "id": "jVltz7HxSKqh",
    "outputId": "4da885b0-b185-4067-b8fe-8b7d990ca310"
   },
   "outputs": [
    {
     "name": "stdout",
     "output_type": "stream",
     "text": [
      "Train on 7352 samples, validate on 2947 samples\n",
      "Epoch 1/30\n",
      "7352/7352 [==============================] - 10s 1ms/step - loss: 1.4846 - acc: 0.3791 - val_loss: 1.3259 - val_acc: 0.4377\n",
      "Epoch 2/30\n",
      "7352/7352 [==============================] - 9s 1ms/step - loss: 1.1755 - acc: 0.5203 - val_loss: 1.1487 - val_acc: 0.4975\n",
      "Epoch 3/30\n",
      "7352/7352 [==============================] - 9s 1ms/step - loss: 1.0680 - acc: 0.5409 - val_loss: 1.1269 - val_acc: 0.4432\n",
      "Epoch 4/30\n",
      "7352/7352 [==============================] - 9s 1ms/step - loss: 1.0095 - acc: 0.5301 - val_loss: 1.0349 - val_acc: 0.5470\n",
      "Epoch 5/30\n",
      "7352/7352 [==============================] - 9s 1ms/step - loss: 0.9016 - acc: 0.5819 - val_loss: 0.9898 - val_acc: 0.5680\n",
      "Epoch 6/30\n",
      "7352/7352 [==============================] - 9s 1ms/step - loss: 0.9225 - acc: 0.5665 - val_loss: 0.9704 - val_acc: 0.5382\n",
      "Epoch 7/30\n",
      "7352/7352 [==============================] - 9s 1ms/step - loss: 0.9060 - acc: 0.5778 - val_loss: 0.9698 - val_acc: 0.5378\n",
      "Epoch 8/30\n",
      "7352/7352 [==============================] - 9s 1ms/step - loss: 0.9215 - acc: 0.5634 - val_loss: 1.0284 - val_acc: 0.4927\n",
      "Epoch 9/30\n",
      "7352/7352 [==============================] - 9s 1ms/step - loss: 0.9130 - acc: 0.5620 - val_loss: 0.9043 - val_acc: 0.5606\n",
      "Epoch 10/30\n",
      "7352/7352 [==============================] - 9s 1ms/step - loss: 0.8073 - acc: 0.6138 - val_loss: 0.8843 - val_acc: 0.5575\n",
      "Epoch 11/30\n",
      "7352/7352 [==============================] - 9s 1ms/step - loss: 0.8575 - acc: 0.5967 - val_loss: 0.9001 - val_acc: 0.5619\n",
      "Epoch 12/30\n",
      "7352/7352 [==============================] - 9s 1ms/step - loss: 0.8156 - acc: 0.6223 - val_loss: 0.8721 - val_acc: 0.5972\n",
      "Epoch 13/30\n",
      "7352/7352 [==============================] - 9s 1ms/step - loss: 0.7582 - acc: 0.6424 - val_loss: 0.7941 - val_acc: 0.6359\n",
      "Epoch 14/30\n",
      "7352/7352 [==============================] - 9s 1ms/step - loss: 0.7192 - acc: 0.6653 - val_loss: 0.8590 - val_acc: 0.6308\n",
      "Epoch 15/30\n",
      "7352/7352 [==============================] - 9s 1ms/step - loss: 0.6929 - acc: 0.6859 - val_loss: 0.8085 - val_acc: 0.6926\n",
      "Epoch 16/30\n",
      "7352/7352 [==============================] - 9s 1ms/step - loss: 0.6580 - acc: 0.7214 - val_loss: 1.0019 - val_acc: 0.6698\n",
      "Epoch 17/30\n",
      "7352/7352 [==============================] - 9s 1ms/step - loss: 0.6654 - acc: 0.7364 - val_loss: 0.7552 - val_acc: 0.7360\n",
      "Epoch 18/30\n",
      "7352/7352 [==============================] - 9s 1ms/step - loss: 0.6370 - acc: 0.7527 - val_loss: 0.9849 - val_acc: 0.6865\n",
      "Epoch 19/30\n",
      "7352/7352 [==============================] - 9s 1ms/step - loss: 0.6880 - acc: 0.7446 - val_loss: 0.8470 - val_acc: 0.7119\n",
      "Epoch 20/30\n",
      "7352/7352 [==============================] - 9s 1ms/step - loss: 0.7110 - acc: 0.7345 - val_loss: 0.9611 - val_acc: 0.6508\n",
      "Epoch 21/30\n",
      "7352/7352 [==============================] - 9s 1ms/step - loss: 0.6855 - acc: 0.7307 - val_loss: 0.8833 - val_acc: 0.6912\n",
      "Epoch 22/30\n",
      "7352/7352 [==============================] - 9s 1ms/step - loss: 0.7411 - acc: 0.7078 - val_loss: 0.9814 - val_acc: 0.6647\n",
      "Epoch 23/30\n",
      "7352/7352 [==============================] - 9s 1ms/step - loss: 0.6613 - acc: 0.7401 - val_loss: 0.7892 - val_acc: 0.7109\n",
      "Epoch 24/30\n",
      "7352/7352 [==============================] - 9s 1ms/step - loss: 0.6467 - acc: 0.7429 - val_loss: 0.7778 - val_acc: 0.7503\n",
      "Epoch 25/30\n",
      "7352/7352 [==============================] - 9s 1ms/step - loss: 0.6237 - acc: 0.7786 - val_loss: 0.6387 - val_acc: 0.7727\n",
      "Epoch 26/30\n",
      "7352/7352 [==============================] - 9s 1ms/step - loss: 0.5512 - acc: 0.8022 - val_loss: 0.6409 - val_acc: 0.7682\n",
      "Epoch 27/30\n",
      "7352/7352 [==============================] - 9s 1ms/step - loss: 0.5964 - acc: 0.8002 - val_loss: 0.7682 - val_acc: 0.7424\n",
      "Epoch 28/30\n",
      "7352/7352 [==============================] - 9s 1ms/step - loss: 0.5252 - acc: 0.8251 - val_loss: 0.6710 - val_acc: 0.7838\n",
      "Epoch 29/30\n",
      "7352/7352 [==============================] - 9s 1ms/step - loss: 0.4449 - acc: 0.8531 - val_loss: 0.6303 - val_acc: 0.8100\n",
      "Epoch 30/30\n",
      "7352/7352 [==============================] - 9s 1ms/step - loss: 0.3663 - acc: 0.8800 - val_loss: 0.6127 - val_acc: 0.7961\n"
     ]
    }
   ],
   "source": [
    "# Training the model\n",
    "history = model.fit(X_train,\n",
    "          Y_train,\n",
    "          batch_size=64,\n",
    "          validation_data=(X_test, Y_test),\n",
    "          epochs=epochs)"
   ]
  },
  {
   "cell_type": "code",
   "execution_count": 47,
   "metadata": {
    "colab": {
     "base_uri": "https://localhost:8080/",
     "height": 51
    },
    "colab_type": "code",
    "id": "PSfu4KPuSUCe",
    "outputId": "29d2685f-0d70-4104-a0c1-34b8156b3eef"
   },
   "outputs": [
    {
     "name": "stdout",
     "output_type": "stream",
     "text": [
      "2947/2947 [==============================] - 1s 301us/step\n",
      "[0.612743710102289, 0.7960637936884968]\n"
     ]
    }
   ],
   "source": [
    "score = model.evaluate(X_test, Y_test)\n",
    "print(score)"
   ]
  },
  {
   "cell_type": "code",
   "execution_count": 48,
   "metadata": {
    "colab": {
     "base_uri": "https://localhost:8080/",
     "height": 187
    },
    "colab_type": "code",
    "id": "El4qIdzOSY0L",
    "outputId": "cb18ecfc-94ec-4897-91d0-2f51312dc4f0"
   },
   "outputs": [
    {
     "name": "stdout",
     "output_type": "stream",
     "text": [
      "Pred                LAYING  SITTING  ...  WALKING_DOWNSTAIRS  WALKING_UPSTAIRS\n",
      "True                                 ...                                      \n",
      "LAYING                 510        0  ...                   0                27\n",
      "SITTING                  1      397  ...                   0                23\n",
      "STANDING                 0       91  ...                   1                23\n",
      "WALKING                  1        1  ...                  57               107\n",
      "WALKING_DOWNSTAIRS       0        0  ...                 264               135\n",
      "WALKING_UPSTAIRS         3        2  ...                  16               442\n",
      "\n",
      "[6 rows x 6 columns]\n"
     ]
    }
   ],
   "source": [
    "# Confusion Matrix\n",
    "print(confusion_matrix(Y_test, model.predict(X_test)))"
   ]
  },
  {
   "cell_type": "code",
   "execution_count": 0,
   "metadata": {
    "colab": {},
    "colab_type": "code",
    "id": "1PF9oBBtSnXI"
   },
   "outputs": [],
   "source": [
    "import matplotlib.pyplot as plt\n",
    "\n",
    "# https://gist.github.com/greydanus/f6eee59eaf1d90fcb3b534a25362cea4\n",
    "# https://stackoverflow.com/a/14434334\n",
    "# this function is used to update the plots for each epoch and error\n",
    "def plt_dynamic(x, vy, ty, ax, colors=['b']):\n",
    "    ax.plot(x, vy, 'b', label=\"Validation Loss\")\n",
    "    ax.plot(x, ty, 'r', label=\"Train Loss\")\n",
    "    plt.legend()\n",
    "    plt.grid()\n",
    "    fig.canvas.draw()"
   ]
  },
  {
   "cell_type": "code",
   "execution_count": 50,
   "metadata": {
    "colab": {
     "base_uri": "https://localhost:8080/",
     "height": 283
    },
    "colab_type": "code",
    "id": "oK56t7rFSeRy",
    "outputId": "31da1aa4-093b-457e-804a-d65272a85826"
   },
   "outputs": [
    {
     "data": {
      "image/png": "[encoded data removed]",
      "text/plain": [
       "<Figure size 432x288 with 1 Axes>"
      ]
     },
     "metadata": {
      "tags": []
     },
     "output_type": "display_data"
    }
   ],
   "source": [
    "\n",
    "fig,ax = plt.subplots(1,1)\n",
    "ax.set_xlabel('epoch') ; ax.set_ylabel('Crossentropy Loss')\n",
    "\n",
    "# list of epoch numbers\n",
    "x = list(range(1,epochs+1))\n",
    "\n",
    "# print(history.history.keys())\n",
    "# dict_keys(['val_loss', 'val_acc', 'loss', 'acc'])\n",
    "# history = model_drop.fit(X_train, Y_train, batch_size=batch_size, epochs=nb_epoch, verbose=1, validation_data=(X_test, Y_test))\n",
    "\n",
    "# we will get val_loss and val_acc only when you pass the paramter validation_data\n",
    "# val_loss : validation loss\n",
    "# val_acc : validation accuracy\n",
    "\n",
    "# loss : training loss\n",
    "# acc : train accuracy\n",
    "# for each key in histrory.histrory we will have a list of length equal to number of epochs\n",
    "\n",
    "vy = history.history['val_loss']\n",
    "ty = history.history['loss']\n",
    "plt_dynamic(x, vy, ty, ax)"
   ]
  },
  {
   "cell_type": "code",
   "execution_count": 0,
   "metadata": {
    "colab": {},
    "colab_type": "code",
    "id": "_Bg9NsNrUImj"
   },
   "outputs": [],
   "source": [
    "#lets increase the LSTM units and check the results"
   ]
  },
  {
   "cell_type": "code",
   "execution_count": 17,
   "metadata": {
    "colab": {
     "base_uri": "https://localhost:8080/",
     "height": 462
    },
    "colab_type": "code",
    "id": "MFUnCrIVUexe",
    "outputId": "98a4317f-4419-4bb0-c4ae-193b56a64a80"
   },
   "outputs": [
    {
     "name": "stdout",
     "output_type": "stream",
     "text": [
      "WARNING:tensorflow:From /usr/local/lib/python3.6/dist-packages/keras/backend/tensorflow_backend.py:541: The name tf.placeholder is deprecated. Please use tf.compat.v1.placeholder instead.\n",
      "\n",
      "WARNING:tensorflow:From /usr/local/lib/python3.6/dist-packages/keras/backend/tensorflow_backend.py:4479: The name tf.truncated_normal is deprecated. Please use tf.random.truncated_normal instead.\n",
      "\n",
      "WARNING:tensorflow:From /usr/local/lib/python3.6/dist-packages/keras/backend/tensorflow_backend.py:148: The name tf.placeholder_with_default is deprecated. Please use tf.compat.v1.placeholder_with_default instead.\n",
      "\n",
      "WARNING:tensorflow:From /usr/local/lib/python3.6/dist-packages/keras/backend/tensorflow_backend.py:3733: calling dropout (from tensorflow.python.ops.nn_ops) with keep_prob is deprecated and will be removed in a future version.\n",
      "Instructions for updating:\n",
      "Please use `rate` instead of `keep_prob`. Rate should be set to `rate = 1 - keep_prob`.\n",
      "WARNING:tensorflow:From /usr/local/lib/python3.6/dist-packages/keras/backend/tensorflow_backend.py:4432: The name tf.random_uniform is deprecated. Please use tf.random.uniform instead.\n",
      "\n",
      "Model: \"sequential_1\"\n",
      "_________________________________________________________________\n",
      "Layer (type)                 Output Shape              Param #   \n",
      "=================================================================\n",
      "lstm_1 (LSTM)                (None, 64)                18944     \n",
      "_________________________________________________________________\n",
      "dropout_1 (Dropout)          (None, 64)                0         \n",
      "_________________________________________________________________\n",
      "dense_1 (Dense)              (None, 6)                 390       \n",
      "=================================================================\n",
      "Total params: 19,334\n",
      "Trainable params: 19,334\n",
      "Non-trainable params: 0\n",
      "_________________________________________________________________\n"
     ]
    }
   ],
   "source": [
    "# Initiliazing the sequential model\n",
    "model = Sequential()\n",
    "# Configuring the parameters\n",
    "model.add(LSTM(64, input_shape=(timesteps, input_dim), kernel_initializer=\"glorot_normal\"))\n",
    "# Adding a dropout layer\n",
    "model.add(Dropout(0.25))\n",
    "# Adding a dense output layer with sigmoid activation\n",
    "model.add(Dense(n_classes, activation='sigmoid'))\n",
    "model.summary()"
   ]
  },
  {
   "cell_type": "code",
   "execution_count": 18,
   "metadata": {
    "colab": {
     "base_uri": "https://localhost:8080/",
     "height": 156
    },
    "colab_type": "code",
    "id": "pyyJX-YXUiws",
    "outputId": "20334ab2-6e6b-4cbe-9dab-fd446f9a51ca"
   },
   "outputs": [
    {
     "name": "stdout",
     "output_type": "stream",
     "text": [
      "WARNING:tensorflow:From /usr/local/lib/python3.6/dist-packages/keras/optimizers.py:793: The name tf.train.Optimizer is deprecated. Please use tf.compat.v1.train.Optimizer instead.\n",
      "\n",
      "WARNING:tensorflow:From /usr/local/lib/python3.6/dist-packages/keras/backend/tensorflow_backend.py:3657: The name tf.log is deprecated. Please use tf.math.log instead.\n",
      "\n",
      "WARNING:tensorflow:From /usr/local/lib/python3.6/dist-packages/tensorflow_core/python/ops/nn_impl.py:183: where (from tensorflow.python.ops.array_ops) is deprecated and will be removed in a future version.\n",
      "Instructions for updating:\n",
      "Use tf.where in 2.0, which has the same broadcast rule as np.where\n"
     ]
    }
   ],
   "source": [
    "# Compiling the model\n",
    "model.compile(loss='binary_crossentropy',\n",
    "              optimizer='Adam',\n",
    "              metrics=['accuracy'])"
   ]
  },
  {
   "cell_type": "code",
   "execution_count": 19,
   "metadata": {
    "colab": {
     "base_uri": "https://localhost:8080/",
     "height": 1000
    },
    "colab_type": "code",
    "id": "J-7mW631Uo0o",
    "outputId": "f8f05bee-bc0a-4045-c992-34b865ff0707"
   },
   "outputs": [
    {
     "name": "stdout",
     "output_type": "stream",
     "text": [
      "WARNING:tensorflow:From /usr/local/lib/python3.6/dist-packages/keras/backend/tensorflow_backend.py:1033: The name tf.assign_add is deprecated. Please use tf.compat.v1.assign_add instead.\n",
      "\n",
      "WARNING:tensorflow:From /usr/local/lib/python3.6/dist-packages/keras/backend/tensorflow_backend.py:1020: The name tf.assign is deprecated. Please use tf.compat.v1.assign instead.\n",
      "\n",
      "Train on 7352 samples, validate on 2947 samples\n",
      "Epoch 1/30\n",
      "WARNING:tensorflow:From /usr/local/lib/python3.6/dist-packages/keras/backend/tensorflow_backend.py:190: The name tf.get_default_session is deprecated. Please use tf.compat.v1.get_default_session instead.\n",
      "\n",
      "WARNING:tensorflow:From /usr/local/lib/python3.6/dist-packages/keras/backend/tensorflow_backend.py:207: The name tf.global_variables is deprecated. Please use tf.compat.v1.global_variables instead.\n",
      "\n",
      "WARNING:tensorflow:From /usr/local/lib/python3.6/dist-packages/keras/backend/tensorflow_backend.py:216: The name tf.is_variable_initialized is deprecated. Please use tf.compat.v1.is_variable_initialized instead.\n",
      "\n",
      "WARNING:tensorflow:From /usr/local/lib/python3.6/dist-packages/keras/backend/tensorflow_backend.py:223: The name tf.variables_initializer is deprecated. Please use tf.compat.v1.variables_initializer instead.\n",
      "\n",
      "7352/7352 [==============================] - 16s 2ms/step - loss: 0.4314 - acc: 0.8407 - val_loss: 0.4405 - val_acc: 0.8571\n",
      "Epoch 2/30\n",
      "7352/7352 [==============================] - 15s 2ms/step - loss: 0.3934 - acc: 0.8455 - val_loss: 0.4029 - val_acc: 0.8215\n",
      "Epoch 3/30\n",
      "7352/7352 [==============================] - 15s 2ms/step - loss: 0.3790 - acc: 0.8472 - val_loss: 0.3532 - val_acc: 0.8613\n",
      "Epoch 4/30\n",
      "7352/7352 [==============================] - 15s 2ms/step - loss: 0.3122 - acc: 0.8705 - val_loss: 0.3097 - val_acc: 0.8715\n",
      "Epoch 5/30\n",
      "7352/7352 [==============================] - 15s 2ms/step - loss: 0.2996 - acc: 0.8672 - val_loss: 0.4036 - val_acc: 0.8418\n",
      "Epoch 6/30\n",
      "7352/7352 [==============================] - 15s 2ms/step - loss: 0.3114 - acc: 0.8606 - val_loss: 0.2760 - val_acc: 0.8821\n",
      "Epoch 7/30\n",
      "7352/7352 [==============================] - 15s 2ms/step - loss: 0.2624 - acc: 0.8876 - val_loss: 0.3487 - val_acc: 0.8682\n",
      "Epoch 8/30\n",
      "7352/7352 [==============================] - 15s 2ms/step - loss: 0.2723 - acc: 0.8796 - val_loss: 0.2477 - val_acc: 0.8889\n",
      "Epoch 9/30\n",
      "7352/7352 [==============================] - 15s 2ms/step - loss: 0.2183 - acc: 0.9003 - val_loss: 0.2282 - val_acc: 0.8921\n",
      "Epoch 10/30\n",
      "7352/7352 [==============================] - 15s 2ms/step - loss: 0.1969 - acc: 0.9113 - val_loss: 0.2061 - val_acc: 0.9060\n",
      "Epoch 11/30\n",
      "7352/7352 [==============================] - 15s 2ms/step - loss: 0.2468 - acc: 0.8953 - val_loss: 0.2501 - val_acc: 0.8952\n",
      "Epoch 12/30\n",
      "7352/7352 [==============================] - 15s 2ms/step - loss: 0.2148 - acc: 0.9058 - val_loss: 0.2565 - val_acc: 0.8948\n",
      "Epoch 13/30\n",
      "7352/7352 [==============================] - 15s 2ms/step - loss: 0.2100 - acc: 0.9102 - val_loss: 0.2201 - val_acc: 0.9118\n",
      "Epoch 14/30\n",
      "7352/7352 [==============================] - 15s 2ms/step - loss: 0.1800 - acc: 0.9265 - val_loss: 0.2340 - val_acc: 0.9045\n",
      "Epoch 15/30\n",
      "7352/7352 [==============================] - 15s 2ms/step - loss: 0.1563 - acc: 0.9399 - val_loss: 0.2141 - val_acc: 0.9282\n",
      "Epoch 16/30\n",
      "7352/7352 [==============================] - 15s 2ms/step - loss: 0.1644 - acc: 0.9361 - val_loss: 0.2218 - val_acc: 0.9158\n",
      "Epoch 17/30\n",
      "7352/7352 [==============================] - 15s 2ms/step - loss: 0.1650 - acc: 0.9336 - val_loss: 0.1987 - val_acc: 0.9261\n",
      "Epoch 18/30\n",
      "7352/7352 [==============================] - 14s 2ms/step - loss: 0.2689 - acc: 0.8897 - val_loss: 0.3550 - val_acc: 0.8381\n",
      "Epoch 19/30\n",
      "7352/7352 [==============================] - 15s 2ms/step - loss: 0.2571 - acc: 0.8813 - val_loss: 0.2319 - val_acc: 0.9006\n",
      "Epoch 20/30\n",
      "7352/7352 [==============================] - 15s 2ms/step - loss: 0.1880 - acc: 0.9246 - val_loss: 0.1865 - val_acc: 0.9401\n",
      "Epoch 21/30\n",
      "7352/7352 [==============================] - 15s 2ms/step - loss: 0.1541 - acc: 0.9398 - val_loss: 0.2241 - val_acc: 0.9129\n",
      "Epoch 22/30\n",
      "7352/7352 [==============================] - 16s 2ms/step - loss: 0.1479 - acc: 0.9388 - val_loss: 0.1936 - val_acc: 0.9282\n",
      "Epoch 23/30\n",
      "7352/7352 [==============================] - 15s 2ms/step - loss: 0.1374 - acc: 0.9434 - val_loss: 0.1778 - val_acc: 0.9337\n",
      "Epoch 24/30\n",
      "7352/7352 [==============================] - 15s 2ms/step - loss: 0.1281 - acc: 0.9493 - val_loss: 0.1670 - val_acc: 0.9389\n",
      "Epoch 25/30\n",
      "7352/7352 [==============================] - 15s 2ms/step - loss: 0.1535 - acc: 0.9367 - val_loss: 0.1949 - val_acc: 0.9169\n",
      "Epoch 26/30\n",
      "7352/7352 [==============================] - 14s 2ms/step - loss: 0.1272 - acc: 0.9551 - val_loss: 0.2260 - val_acc: 0.9320\n",
      "Epoch 27/30\n",
      "7352/7352 [==============================] - 15s 2ms/step - loss: 0.1194 - acc: 0.9592 - val_loss: 0.1309 - val_acc: 0.9603\n",
      "Epoch 28/30\n",
      "7352/7352 [==============================] - 15s 2ms/step - loss: 0.0805 - acc: 0.9731 - val_loss: 0.1258 - val_acc: 0.9610\n",
      "Epoch 29/30\n",
      "7352/7352 [==============================] - 15s 2ms/step - loss: 0.0734 - acc: 0.9738 - val_loss: 0.1386 - val_acc: 0.9542\n",
      "Epoch 30/30\n",
      "7352/7352 [==============================] - 14s 2ms/step - loss: 0.0738 - acc: 0.9737 - val_loss: 0.1907 - val_acc: 0.9099\n"
     ]
    }
   ],
   "source": [
    "# Training the model\n",
    "history = model.fit(X_train,\n",
    "          Y_train,\n",
    "          batch_size=64,\n",
    "          validation_data=(X_test, Y_test),\n",
    "          epochs=epochs)"
   ]
  },
  {
   "cell_type": "code",
   "execution_count": 20,
   "metadata": {
    "colab": {
     "base_uri": "https://localhost:8080/",
     "height": 51
    },
    "colab_type": "code",
    "id": "vPu7qVpzUtOE",
    "outputId": "4a09e4cb-12b3-46bb-dccb-12dc211b43ea"
   },
   "outputs": [
    {
     "name": "stdout",
     "output_type": "stream",
     "text": [
      "2947/2947 [==============================] - 1s 451us/step\n",
      "[0.1906922204002187, 0.9098518366404295]\n"
     ]
    }
   ],
   "source": [
    "\n",
    "score = model.evaluate(X_test, Y_test)\n",
    "print(score)"
   ]
  },
  {
   "cell_type": "code",
   "execution_count": 23,
   "metadata": {
    "colab": {
     "base_uri": "https://localhost:8080/",
     "height": 283
    },
    "colab_type": "code",
    "id": "fVeAB9hkUvkr",
    "outputId": "787c626a-fae1-42a3-ea12-2f547657e6d2"
   },
   "outputs": [
    {
     "data": {
      "image/png": "[encoded data removed]",
      "text/plain": [
       "<Figure size 432x288 with 1 Axes>"
      ]
     },
     "metadata": {
      "tags": []
     },
     "output_type": "display_data"
    }
   ],
   "source": [
    "fig,ax = plt.subplots(1,1)\n",
    "ax.set_xlabel('epoch') ; ax.set_ylabel('Crossentropy Loss')\n",
    "\n",
    "# list of epoch numbers\n",
    "x = list(range(1,epochs+1))\n",
    "\n",
    "# print(history.history.keys())\n",
    "# dict_keys(['val_loss', 'val_acc', 'loss', 'acc'])\n",
    "# history = model_drop.fit(X_train, Y_train, batch_size=batch_size, epochs=nb_epoch, verbose=1, validation_data=(X_test, Y_test))\n",
    "\n",
    "# we will get val_loss and val_acc only when you pass the paramter validation_data\n",
    "# val_loss : validation loss\n",
    "# val_acc : validation accuracy\n",
    "\n",
    "# loss : training loss\n",
    "# acc : train accuracy\n",
    "# for each key in histrory.histrory we will have a list of length equal to number of epochs\n",
    "\n",
    "vy = history.history['val_loss']\n",
    "ty = history.history['loss']\n",
    "plt_dynamic(x, vy, ty, ax)"
   ]
  },
  {
   "cell_type": "code",
   "execution_count": 0,
   "metadata": {
    "colab": {},
    "colab_type": "code",
    "id": "FD3nTGonUwTy"
   },
   "outputs": [],
   "source": [
    "#Lets add one more LSTM layer use rsmprop as optimizer and check the accuracy "
   ]
  },
  {
   "cell_type": "code",
   "execution_count": 58,
   "metadata": {
    "colab": {
     "base_uri": "https://localhost:8080/",
     "height": 289
    },
    "colab_type": "code",
    "id": "5ebNYEHqVKoT",
    "outputId": "bef6bbe8-4058-4efd-8ff1-ce7703c575b1"
   },
   "outputs": [
    {
     "name": "stdout",
     "output_type": "stream",
     "text": [
      "Model: \"sequential_5\"\n",
      "_________________________________________________________________\n",
      "Layer (type)                 Output Shape              Param #   \n",
      "=================================================================\n",
      "lstm_5 (LSTM)                (None, 128, 64)           18944     \n",
      "_________________________________________________________________\n",
      "dropout_5 (Dropout)          (None, 128, 64)           0         \n",
      "_________________________________________________________________\n",
      "lstm_6 (LSTM)                (None, 32)                12416     \n",
      "_________________________________________________________________\n",
      "dense_5 (Dense)              (None, 6)                 198       \n",
      "=================================================================\n",
      "Total params: 31,558\n",
      "Trainable params: 31,558\n",
      "Non-trainable params: 0\n",
      "_________________________________________________________________\n"
     ]
    }
   ],
   "source": [
    "# Initiliazing the sequential model\n",
    "model = Sequential()\n",
    "# Configuring the parameters\n",
    "model.add(LSTM(64, input_shape=(timesteps, input_dim), kernel_initializer=\"glorot_normal\", return_sequences = True))\n",
    "# Adding a dropout layer\n",
    "model.add(Dropout(0.25))\n",
    "model.add(LSTM(n_hidden))\n",
    "# Adding a dense output layer with sigmoid activation\n",
    "model.add(Dense(n_classes, activation='sigmoid'))\n",
    "model.summary()"
   ]
  },
  {
   "cell_type": "code",
   "execution_count": 0,
   "metadata": {
    "colab": {},
    "colab_type": "code",
    "id": "jE7voqYJVtCA"
   },
   "outputs": [],
   "source": [
    "# Compiling the model\n",
    "model.compile(loss='binary_crossentropy',\n",
    "              optimizer='rmsprop',\n",
    "              metrics=['accuracy'])"
   ]
  },
  {
   "cell_type": "code",
   "execution_count": 60,
   "metadata": {
    "colab": {
     "base_uri": "https://localhost:8080/",
     "height": 1000
    },
    "colab_type": "code",
    "id": "DLnw8xciVvUL",
    "outputId": "ba25efab-93d7-452d-b901-64e2706c6ffc"
   },
   "outputs": [
    {
     "name": "stdout",
     "output_type": "stream",
     "text": [
      "Train on 7352 samples, validate on 2947 samples\n",
      "Epoch 1/30\n",
      "7352/7352 [==============================] - 28s 4ms/step - loss: 0.3685 - acc: 0.8558 - val_loss: 0.3627 - val_acc: 0.8646\n",
      "Epoch 2/30\n",
      "7352/7352 [==============================] - 26s 4ms/step - loss: 0.2619 - acc: 0.8847 - val_loss: 0.2689 - val_acc: 0.8828\n",
      "Epoch 3/30\n",
      "7352/7352 [==============================] - 26s 4ms/step - loss: 0.2217 - acc: 0.8981 - val_loss: 0.2119 - val_acc: 0.9028\n",
      "Epoch 4/30\n",
      "7352/7352 [==============================] - 27s 4ms/step - loss: 0.1941 - acc: 0.9169 - val_loss: 0.2061 - val_acc: 0.9072\n",
      "Epoch 5/30\n",
      "7352/7352 [==============================] - 26s 4ms/step - loss: 0.1804 - acc: 0.9228 - val_loss: 0.1808 - val_acc: 0.9235\n",
      "Epoch 6/30\n",
      "7352/7352 [==============================] - 26s 4ms/step - loss: 0.1559 - acc: 0.9407 - val_loss: 0.1631 - val_acc: 0.9363\n",
      "Epoch 7/30\n",
      "7352/7352 [==============================] - 26s 4ms/step - loss: 0.1272 - acc: 0.9578 - val_loss: 0.1360 - val_acc: 0.9522\n",
      "Epoch 8/30\n",
      "7352/7352 [==============================] - 26s 4ms/step - loss: 0.0935 - acc: 0.9719 - val_loss: 0.1183 - val_acc: 0.9600\n",
      "Epoch 9/30\n",
      "7352/7352 [==============================] - 26s 4ms/step - loss: 0.0794 - acc: 0.9738 - val_loss: 0.1149 - val_acc: 0.9584\n",
      "Epoch 10/30\n",
      "7352/7352 [==============================] - 25s 3ms/step - loss: 0.0687 - acc: 0.9779 - val_loss: 0.1173 - val_acc: 0.9555\n",
      "Epoch 11/30\n",
      "7352/7352 [==============================] - 26s 4ms/step - loss: 0.0614 - acc: 0.9789 - val_loss: 0.1701 - val_acc: 0.9432\n",
      "Epoch 12/30\n",
      "7352/7352 [==============================] - 27s 4ms/step - loss: 0.0562 - acc: 0.9788 - val_loss: 0.0932 - val_acc: 0.9657\n",
      "Epoch 13/30\n",
      "7352/7352 [==============================] - 27s 4ms/step - loss: 0.0537 - acc: 0.9806 - val_loss: 0.0885 - val_acc: 0.9654\n",
      "Epoch 14/30\n",
      "7352/7352 [==============================] - 26s 4ms/step - loss: 0.0494 - acc: 0.9813 - val_loss: 0.0891 - val_acc: 0.9685\n",
      "Epoch 15/30\n",
      "7352/7352 [==============================] - 26s 4ms/step - loss: 0.0439 - acc: 0.9829 - val_loss: 0.1183 - val_acc: 0.9624\n",
      "Epoch 16/30\n",
      "7352/7352 [==============================] - 27s 4ms/step - loss: 0.0437 - acc: 0.9824 - val_loss: 0.0977 - val_acc: 0.9681\n",
      "Epoch 17/30\n",
      "7352/7352 [==============================] - 26s 3ms/step - loss: 0.0478 - acc: 0.9812 - val_loss: 0.0991 - val_acc: 0.9644\n",
      "Epoch 18/30\n",
      "7352/7352 [==============================] - 26s 4ms/step - loss: 0.0400 - acc: 0.9841 - val_loss: 0.0792 - val_acc: 0.9699\n",
      "Epoch 19/30\n",
      "7352/7352 [==============================] - 26s 4ms/step - loss: 0.0435 - acc: 0.9836 - val_loss: 0.0996 - val_acc: 0.9704\n",
      "Epoch 20/30\n",
      "7352/7352 [==============================] - 26s 4ms/step - loss: 0.0447 - acc: 0.9821 - val_loss: 0.1153 - val_acc: 0.9649\n",
      "Epoch 21/30\n",
      "7352/7352 [==============================] - 27s 4ms/step - loss: 0.0404 - acc: 0.9827 - val_loss: 0.1212 - val_acc: 0.9664\n",
      "Epoch 22/30\n",
      "7352/7352 [==============================] - 27s 4ms/step - loss: 0.0366 - acc: 0.9846 - val_loss: 0.0892 - val_acc: 0.9714\n",
      "Epoch 23/30\n",
      "7352/7352 [==============================] - 26s 4ms/step - loss: 0.0380 - acc: 0.9848 - val_loss: 0.1346 - val_acc: 0.9585\n",
      "Epoch 24/30\n",
      "7352/7352 [==============================] - 27s 4ms/step - loss: 0.0407 - acc: 0.9832 - val_loss: 0.0853 - val_acc: 0.9721\n",
      "Epoch 25/30\n",
      "7352/7352 [==============================] - 27s 4ms/step - loss: 0.0359 - acc: 0.9847 - val_loss: 0.0826 - val_acc: 0.9730\n",
      "Epoch 26/30\n",
      "7352/7352 [==============================] - 26s 4ms/step - loss: 0.0369 - acc: 0.9846 - val_loss: 0.1033 - val_acc: 0.9694\n",
      "Epoch 27/30\n",
      "7352/7352 [==============================] - 26s 4ms/step - loss: 0.0366 - acc: 0.9844 - val_loss: 0.1116 - val_acc: 0.9630\n",
      "Epoch 28/30\n",
      "7352/7352 [==============================] - 26s 4ms/step - loss: 0.0361 - acc: 0.9854 - val_loss: 0.1042 - val_acc: 0.9693\n",
      "Epoch 29/30\n",
      "7352/7352 [==============================] - 26s 4ms/step - loss: 0.0369 - acc: 0.9855 - val_loss: 0.0953 - val_acc: 0.9715\n",
      "Epoch 30/30\n",
      "7352/7352 [==============================] - 26s 4ms/step - loss: 0.0354 - acc: 0.9853 - val_loss: 0.0947 - val_acc: 0.9693\n"
     ]
    }
   ],
   "source": [
    "# Training the model\n",
    "history = model.fit(X_train,\n",
    "          Y_train,\n",
    "          batch_size=64,\n",
    "          validation_data=(X_test, Y_test),\n",
    "          epochs=epochs)"
   ]
  },
  {
   "cell_type": "code",
   "execution_count": 61,
   "metadata": {
    "colab": {
     "base_uri": "https://localhost:8080/",
     "height": 51
    },
    "colab_type": "code",
    "id": "1-pMrHKRVxZu",
    "outputId": "54a85fd1-a74c-4e1c-b51f-02677b2d86cc"
   },
   "outputs": [
    {
     "name": "stdout",
     "output_type": "stream",
     "text": [
      "2947/2947 [==============================] - 2s 789us/step\n",
      "[0.0947089619885832, 0.9693473638580499]\n"
     ]
    }
   ],
   "source": [
    "\n",
    "score = model.evaluate(X_test, Y_test)\n",
    "print(score)"
   ]
  },
  {
   "cell_type": "code",
   "execution_count": 62,
   "metadata": {
    "colab": {
     "base_uri": "https://localhost:8080/",
     "height": 283
    },
    "colab_type": "code",
    "id": "WZKzIzJ3Vz9M",
    "outputId": "16ff7c6a-c950-4c70-b7ca-f344f6d1fa2c"
   },
   "outputs": [
    {
     "data": {
      "image/png": "[encoded data removed]",
      "text/plain": [
       "<Figure size 432x288 with 1 Axes>"
      ]
     },
     "metadata": {
      "tags": []
     },
     "output_type": "display_data"
    }
   ],
   "source": [
    "fig,ax = plt.subplots(1,1)\n",
    "ax.set_xlabel('epoch') ; ax.set_ylabel('Crossentropy Loss')\n",
    "\n",
    "# list of epoch numbers\n",
    "x = list(range(1,epochs+1))\n",
    "\n",
    "# print(history.history.keys())\n",
    "# dict_keys(['val_loss', 'val_acc', 'loss', 'acc'])\n",
    "# history = model_drop.fit(X_train, Y_train, batch_size=batch_size, epochs=nb_epoch, verbose=1, validation_data=(X_test, Y_test))\n",
    "\n",
    "# we will get val_loss and val_acc only when you pass the paramter validation_data\n",
    "# val_loss : validation loss\n",
    "# val_acc : validation accuracy\n",
    "\n",
    "# loss : training loss\n",
    "# acc : train accuracy\n",
    "# for each key in histrory.histrory we will have a list of length equal to number of epochs\n",
    "\n",
    "vy = history.history['val_loss']\n",
    "ty = history.history['loss']\n",
    "plt_dynamic(x, vy, ty, ax)"
   ]
  },
  {
   "cell_type": "markdown",
   "metadata": {
    "colab_type": "text",
    "id": "SoTTIjE2HFZS"
   },
   "source": [
    "# Conclusion:"
   ]
  },
  {
   "cell_type": "code",
   "execution_count": 24,
   "metadata": {
    "colab": {
     "base_uri": "https://localhost:8080/",
     "height": 153
    },
    "colab_type": "code",
    "id": "KqVNzd7bGs__",
    "outputId": "9cb59ad0-1195-4240-8c22-d1828e23e954"
   },
   "outputs": [
    {
     "name": "stdout",
     "output_type": "stream",
     "text": [
      "+-------+------------+---------+-----------+----------+\n",
      "| Model | Lstm Units | Dropout | Optimizer | Accuracy |\n",
      "+-------+------------+---------+-----------+----------+\n",
      "|  Lstm |     32     |   0.5   |  rmsprop  |  0.9005  |\n",
      "|  Lstm |     32     |   .25   |  rmsprop  |  0.7960  |\n",
      "|  Lstm |     64     |   .25   |    Adam   |  0.9098  |\n",
      "|  Lstm |     64     |   .25   |  rmsprop  |  0.9693  |\n",
      "+-------+------------+---------+-----------+----------+\n"
     ]
    }
   ],
   "source": [
    "from prettytable import PrettyTable\n",
    "x = PrettyTable()\n",
    "x.field_names = [\"Model\",\"Lstm Units\",\"Dropout\",\"Optimizer\",\"Accuracy\"]\n",
    "\n",
    "x.add_row([\"Lstm\",\"32\",\"0.5\",\"rmsprop\" ,\"0.9005\"])\n",
    "x.add_row([\"Lstm\",\"32\",\".25\",\"rmsprop\" ,\"0.7960\"])\n",
    "x.add_row([\"Lstm\",\"64\",\".25\" ,\"Adam\", \"0.9098\"])\n",
    "x.add_row([\"Lstm\",\"64\",\".25\",\"rmsprop\" ,\"0.9693\"])\n",
    "\n",
    "\n",
    "print(x)"
   ]
  },
  {
   "cell_type": "markdown",
   "metadata": {
    "colab_type": "text",
    "id": "HjuFBpVrIZTn"
   },
   "source": [
    "  Increasing Lstm units and decreasing dropouts returns good accuracy.\n",
    "\n",
    "  With Lstm(64 units) + dropout(0.25)+ optimizer(rmsprop) able to achieve test acccuracy of 96.93%."
   ]
  }
 ],
 "metadata": {
  "colab": {
   "collapsed_sections": [],
   "name": "ON_CPU_HAR_LSTM.ipynb",
   "provenance": []
  },
  "kernelspec": {
   "display_name": "Python 3",
   "language": "python",
   "name": "python3"
  },
  "language_info": {
   "codemirror_mode": {
    "name": "ipython",
    "version": 3
   },
   "file_extension": ".py",
   "mimetype": "text/x-python",
   "name": "python",
   "nbconvert_exporter": "python",
   "pygments_lexer": "ipython3",
   "version": "3.6.5"
  },
  "toc": {
   "base_numbering": 1,
   "nav_menu": {},
   "number_sections": false,
   "sideBar": true,
   "skip_h1_title": false,
   "title_cell": "Table of Contents",
   "title_sidebar": "Contents",
   "toc_cell": false,
   "toc_position": {},
   "toc_section_display": true,
   "toc_window_display": false
  }
 },
 "nbformat": 4,
 "nbformat_minor": 1
}
